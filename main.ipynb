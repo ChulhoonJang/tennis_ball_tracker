{
 "cells": [
  {
   "cell_type": "markdown",
   "metadata": {},
   "source": [
    "# tennis ball tracker"
   ]
  },
  {
   "cell_type": "markdown",
   "metadata": {},
   "source": [
    "## packages"
   ]
  },
  {
   "cell_type": "code",
   "execution_count": 1,
   "metadata": {},
   "outputs": [],
   "source": [
    "import cv2\n",
    "import numpy as np\n",
    "from modules import proc\n",
    "from modules import tracking"
   ]
  },
  {
   "cell_type": "markdown",
   "metadata": {},
   "source": [
    "## initialization"
   ]
  },
  {
   "cell_type": "code",
   "execution_count": 2,
   "metadata": {},
   "outputs": [],
   "source": [
    "video_path = './videos/videoplayback.mp4'\n",
    "bRecord = False\n",
    "que = proc.ImgQueue(5)\n",
    "\n",
    "kernel_size = 30\n",
    "kernel_dilation = cv2.getStructuringElement(cv2.MORPH_RECT,(kernel_size,kernel_size))\n",
    "kernel_open = cv2.getStructuringElement(cv2.MORPH_RECT,(3,3))\n",
    "\n",
    "width = 640.\n",
    "\n",
    "if bRecord == True:\n",
    "    fourcc = cv2.VideoWriter_fourcc(*'XVID')\n",
    "    out = cv2.VideoWriter('{}.avi'.format(video_path.split('/')[-1].split('.')[0]),fourcc, 20.0, (640,360))"
   ]
  },
  {
   "cell_type": "markdown",
   "metadata": {},
   "source": [
    "## run"
   ]
  },
  {
   "cell_type": "code",
   "execution_count": 3,
   "metadata": {
    "scrolled": true
   },
   "outputs": [
    {
     "name": "stderr",
     "output_type": "stream",
     "text": [
      "/anaconda2/lib/python2.7/site-packages/numpy/core/fromnumeric.py:2920: RuntimeWarning: Mean of empty slice.\n",
      "  out=out, **kwargs)\n",
      "/anaconda2/lib/python2.7/site-packages/numpy/core/_methods.py:85: RuntimeWarning: invalid value encountered in double_scalars\n",
      "  ret = ret.dtype.type(ret / rcount)\n"
     ]
    },
    {
     "data": {
      "text/plain": [
       "-1"
      ]
     },
     "execution_count": 3,
     "metadata": {},
     "output_type": "execute_result"
    }
   ],
   "source": [
    "cap = cv2.VideoCapture(video_path)\n",
    "tg = tracking.track_manager(50, 5, 5)\n",
    "\n",
    "while(cap.isOpened()):\n",
    "    ret, img = cap.read()\n",
    "    try:\n",
    "        resize_scale = width / float(img.shape[1])\n",
    "        img = cv2.resize(img, None, fx=resize_scale, fy=resize_scale)\n",
    "        img_debug = np.copy(img)\n",
    "\n",
    "        # put img into queue\n",
    "        img_avg = que.calculate_average().astype(np.uint8)    \n",
    "        que.enqueue(img)    \n",
    "\n",
    "        # background subtraction\n",
    "        img_diff = np.abs(img.astype(np.float)-img_avg.astype(np.float)).astype(np.uint8)\n",
    "        img_diff_gray = cv2.cvtColor(img_diff, cv2.COLOR_BGR2GRAY)\n",
    "        ret, img_diff_gray = cv2.threshold(img_diff_gray, 50, 255, cv2.THRESH_BINARY) \n",
    "        img_diff_gray = cv2.morphologyEx(img_diff_gray, cv2.MORPH_CLOSE, kernel_open)\n",
    "\n",
    "        # dilation to remove players\n",
    "        img_dilation = cv2.morphologyEx(img_diff_gray, cv2.MORPH_DILATE, kernel_dilation)    \n",
    "        clusters_dilation, _ = proc.clustering(img_dilation, None, None)\n",
    "\n",
    "        # eliminate players\n",
    "        for cluster in clusters_dilation:\n",
    "            if cluster[4] < 1500:\n",
    "                img_dilation[cluster[1]:cluster[1]+cluster[3], cluster[0]:cluster[0]+cluster[2]] = 0\n",
    "        img_diff_gray = img_diff_gray - img_dilation    \n",
    "        ret, img_diff_gray = cv2.threshold(img_diff_gray, 127, 255, cv2.THRESH_BINARY) \n",
    "\n",
    "        clusters_diff, clusters_diff_center = proc.clustering(img_diff_gray, (2, 30), (0.5, 2.0))\n",
    "\n",
    "        # tracking\n",
    "        tg.manage(clusters_diff_center)\n",
    "\n",
    "        # display    \n",
    "        tracks = tg.get_valid_tracks()\n",
    "        for i in range(len(tracks)):\n",
    "            t = tracks[i]\n",
    "            pos = (int(t.pos[0]), int(t.pos[1]))\n",
    "            cv2.circle(img_debug, pos, 2, (0,0,255), -1)\n",
    "\n",
    "            if len(t.traj) > 1:\n",
    "                for i in range(len(t.traj)-1):\n",
    "                    pt1 = (int(t.traj[i][0]), int(t.traj[i][1]))\n",
    "                    pt2 = (int(t.traj[i+1][0]), int(t.traj[i+1][1]))       \n",
    "                    cv2.circle(img_debug, pt1, 3, (0,0,255), -1)\n",
    "                    cv2.circle(img_debug, pt2, 3, (0,255,0), -1)\n",
    "                    cv2.line(img_debug, pt1, pt2, (0,200,128), 2)\n",
    "\n",
    "        cv2.namedWindow('debug')\n",
    "        cv2.imshow('debug',img_debug)\n",
    "\n",
    "        # record\n",
    "        if bRecord == True:\n",
    "            out.write(img_debug)\n",
    "\n",
    "        # terminate\n",
    "        k = cv2.waitKey(1) \n",
    "        if k == 27:\n",
    "            cv2.destroyAllWindows()\n",
    "            cv2.waitKey(1)\n",
    "            break\n",
    "            \n",
    "    except AttributeError:\n",
    "        break\n",
    "\n",
    "cap.release()\n",
    "\n",
    "if bRecord == True:\n",
    "    out.release()\n",
    "\n",
    "cv2.destroyAllWindows()\n",
    "cv2.waitKey(1) "
   ]
  }
 ],
 "metadata": {
  "kernelspec": {
   "display_name": "Python 2",
   "language": "python",
   "name": "python2"
  },
  "language_info": {
   "codemirror_mode": {
    "name": "ipython",
    "version": 2
   },
   "file_extension": ".py",
   "mimetype": "text/x-python",
   "name": "python",
   "nbconvert_exporter": "python",
   "pygments_lexer": "ipython2",
   "version": "2.7.15"
  }
 },
 "nbformat": 4,
 "nbformat_minor": 2
}
